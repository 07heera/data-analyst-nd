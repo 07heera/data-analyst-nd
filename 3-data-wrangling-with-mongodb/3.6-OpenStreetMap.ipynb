{
 "cells": [
  {
   "cell_type": "markdown",
   "metadata": {},
   "source": [
    "## Download OSM Data\n",
    "\n",
    "There is a list of pre-prepared zipped extracts for large files.\n",
    "\n",
    "1. Parse data\n",
    "2. Read enough OSM documentation to answer Qs we have\n",
    "\n",
    "### Types of XML parsing\n",
    "1. Tree-based parsing (read entire doc into memory)\n",
    "2. Sax parser (Iterative parsing: ET.iterparse(osm_file) -> Parses one tag at a time. Treat each time you see a tag as an event. For each event: check and see if we already have the tag in the dictionary. If not, create a new key.)\n",
    "\n",
    "Task: Create dictionary with keys for each unique tag."
   ]
  },
  {
   "cell_type": "code",
   "execution_count": null,
   "metadata": {
    "collapsed": true
   },
   "outputs": [],
   "source": [
    "#!/usr/bin/env python\n",
    "# -*- coding: utf-8 -*-\n",
    "\"\"\"\n",
    "Your task is to use the iterative parsing to process the map file and\n",
    "find out not only what tags are there, but also how many, to get the\n",
    "feeling on how much of which data you can expect to have in the map.\n",
    "Fill out the count_tags function. It should return a dictionary with the \n",
    "tag name as the key and number of times this tag can be encountered in \n",
    "the map as value.\n",
    "\n",
    "Note that your code will be tested with a different data file than the 'example.osm'\n",
    "\"\"\"\n",
    "import xml.etree.cElementTree as ET\n",
    "import pprint\n",
    "\n",
    "def count_tags(filename):\n",
    "        # YOUR CODE HERE\n",
    "        root = ET.parse.getroot(filename)\n",
    "        tags = {}\n",
    "        # Loop through all top level elements\n",
    "        for top_element in root.findall(\".\"):\n",
    "            # For each tag, if key = tagname exists, value +1 for key = tagname\n",
    "            if top_element.tag in tags:\n",
    "                tags[top_element.tag] = tags[top_element.tag] + 1\n",
    "            # Else create entry in tag dict: key = tagname, value = 1.\n",
    "            else:\n",
    "                tags[top_element.tag] = 1\n",
    "        return tags\n",
    "\n",
    "def test():\n",
    "\n",
    "    tags = count_tags('example.osm')\n",
    "    pprint.pprint(tags)\n",
    "    assert tags == {'bounds': 1,\n",
    "                     'member': 3,\n",
    "                     'nd': 4,\n",
    "                     'node': 20,\n",
    "                     'osm': 1,\n",
    "                     'relation': 1,\n",
    "                     'tag': 7,\n",
    "                     'way': 1}\n",
    "\n"
   ]
  }
 ],
 "metadata": {
  "kernelspec": {
   "display_name": "Python 3",
   "language": "python",
   "name": "python3"
  },
  "language_info": {
   "codemirror_mode": {
    "name": "ipython",
    "version": 3
   },
   "file_extension": ".py",
   "mimetype": "text/x-python",
   "name": "python",
   "nbconvert_exporter": "python",
   "pygments_lexer": "ipython3",
   "version": "3.5.1"
  }
 },
 "nbformat": 4,
 "nbformat_minor": 0
}
