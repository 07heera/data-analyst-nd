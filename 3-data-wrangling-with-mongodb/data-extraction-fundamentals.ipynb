{
 "cells": [
  {
   "cell_type": "code",
   "execution_count": 1,
   "metadata": {
    "collapsed": true
   },
   "outputs": [],
   "source": [
    "datafile = 'beatles-diskography.csv'"
   ]
  },
  {
   "cell_type": "code",
   "execution_count": 8,
   "metadata": {
    "collapsed": false
   },
   "outputs": [],
   "source": [
    "def parse_file(datafile):\n",
    "    data = []\n",
    "    with open(datafile, \"r\") as f:\n",
    "        firstline = True\n",
    "        for line in f:\n",
    "            if firstline:\n",
    "                firstline = False\n",
    "                continue\n",
    "            else:\n",
    "                parsed_line = [el.strip() for el in line.split(',')]\n",
    "                line_dict = {}\n",
    "                line_dict['Title'] = parsed_line[0]\n",
    "                line_dict['Released'] = parsed_line[1]\n",
    "                line_dict['Label'] = parsed_line[2]\n",
    "                line_dict['UK Chart Position'] = parsed_line[3]\n",
    "                line_dict['US Chart Position'] = parsed_line[4]\n",
    "                line_dict['BPI Certification'] = parsed_line[5]\n",
    "                line_dict['RIAA Certification'] = parsed_line[6]\n",
    "                if len(data) < 10:\n",
    "                    data.append(line_dict)\n",
    "    return data"
   ]
  },
  {
   "cell_type": "code",
   "execution_count": 12,
   "metadata": {
    "collapsed": true
   },
   "outputs": [
    {
     "data": {
      "text/plain": [
       "[{'BPI Certification': 'Gold',\n",
       "  'Label': 'Parlophone(UK)',\n",
       "  'RIAA Certification': 'Platinum',\n",
       "  'Released': '22 March 1963',\n",
       "  'Title': 'Please Please Me',\n",
       "  'UK Chart Position': '1',\n",
       "  'US Chart Position': '—'},\n",
       " {'BPI Certification': 'Platinum',\n",
       "  'Label': 'Parlophone(UK)',\n",
       "  'RIAA Certification': 'Gold',\n",
       "  'Released': '22 November 1963',\n",
       "  'Title': 'With the Beatles',\n",
       "  'UK Chart Position': '1',\n",
       "  'US Chart Position': '—'},\n",
       " {'BPI Certification': '',\n",
       "  'Label': 'Capitol(CAN)',\n",
       "  'RIAA Certification': '',\n",
       "  'Released': '25 November 1963',\n",
       "  'Title': 'Beatlemania! With the Beatles',\n",
       "  'UK Chart Position': '—',\n",
       "  'US Chart Position': '—'},\n",
       " {'BPI Certification': '',\n",
       "  'Label': 'Vee-Jay(US)',\n",
       "  'RIAA Certification': '',\n",
       "  'Released': '10 January 1964',\n",
       "  'Title': 'Introducing... The Beatles',\n",
       "  'UK Chart Position': '—',\n",
       "  'US Chart Position': '2'},\n",
       " {'BPI Certification': '',\n",
       "  'Label': 'Capitol(US)',\n",
       "  'RIAA Certification': '5xPlatinum',\n",
       "  'Released': '20 January 1964',\n",
       "  'Title': 'Meet the Beatles!',\n",
       "  'UK Chart Position': '—',\n",
       "  'US Chart Position': '1'},\n",
       " {'BPI Certification': '',\n",
       "  'Label': 'Capitol(CAN)',\n",
       "  'RIAA Certification': '',\n",
       "  'Released': '3 February 1964',\n",
       "  'Title': 'Twist and Shout',\n",
       "  'UK Chart Position': '—',\n",
       "  'US Chart Position': '—'},\n",
       " {'BPI Certification': '',\n",
       "  'Label': 'Capitol(US)',\n",
       "  'RIAA Certification': '2xPlatinum',\n",
       "  'Released': '10 April 1964',\n",
       "  'Title': \"The Beatles' Second Album\",\n",
       "  'UK Chart Position': '—',\n",
       "  'US Chart Position': '1'},\n",
       " {'BPI Certification': '',\n",
       "  'Label': 'Capitol(CAN)',\n",
       "  'RIAA Certification': '',\n",
       "  'Released': '11 May 1964',\n",
       "  'Title': \"The Beatles' Long Tall Sally\",\n",
       "  'UK Chart Position': '—',\n",
       "  'US Chart Position': '—'},\n",
       " {'BPI Certification': '',\n",
       "  'Label': 'United Artists(US)[C]',\n",
       "  'RIAA Certification': '4xPlatinum',\n",
       "  'Released': '26 June 1964',\n",
       "  'Title': \"A Hard Day's Night\",\n",
       "  'UK Chart Position': '—',\n",
       "  'US Chart Position': '1'},\n",
       " {'BPI Certification': 'Gold',\n",
       "  'Label': 'Parlophone(UK)',\n",
       "  'RIAA Certification': '',\n",
       "  'Released': '10 July 1964',\n",
       "  'Title': '',\n",
       "  'UK Chart Position': '1',\n",
       "  'US Chart Position': '—'}]"
      ]
     },
     "execution_count": 12,
     "metadata": {},
     "output_type": "execute_result"
    }
   ],
   "source": [
    "parse_file(datafile)"
   ]
  },
  {
   "cell_type": "code",
   "execution_count": 22,
   "metadata": {
    "collapsed": true
   },
   "outputs": [],
   "source": [
    "def parse_file_ans(datafile):\n",
    "    data = []\n",
    "    with open(datafile, 'r') as f:\n",
    "        header = f.readline().split(',')\n",
    "        counter = 0\n",
    "        for line in f:\n",
    "            if counter == 10:\n",
    "                break\n",
    "            fields = line.split(',')\n",
    "            dict_entry = {}\n",
    "            for i, value in enumerate(fields):\n",
    "                dict_entry[header[i].strip()] = value.strip()\n",
    "            data.append(dict_entry)\n",
    "            counter +=1\n",
    "    return data"
   ]
  },
  {
   "cell_type": "code",
   "execution_count": 23,
   "metadata": {
    "collapsed": true
   },
   "outputs": [
    {
     "data": {
      "text/plain": [
       "[{'BPI Certification': 'Gold',\n",
       "  'Label': 'Parlophone(UK)',\n",
       "  'RIAA Certification': 'Platinum',\n",
       "  'Released': '22 March 1963',\n",
       "  'Title': 'Please Please Me',\n",
       "  'UK Chart Position': '1',\n",
       "  'US Chart Position': '—'},\n",
       " {'BPI Certification': 'Platinum',\n",
       "  'Label': 'Parlophone(UK)',\n",
       "  'RIAA Certification': 'Gold',\n",
       "  'Released': '22 November 1963',\n",
       "  'Title': 'With the Beatles',\n",
       "  'UK Chart Position': '1',\n",
       "  'US Chart Position': '—'},\n",
       " {'BPI Certification': '',\n",
       "  'Label': 'Capitol(CAN)',\n",
       "  'RIAA Certification': '',\n",
       "  'Released': '25 November 1963',\n",
       "  'Title': 'Beatlemania! With the Beatles',\n",
       "  'UK Chart Position': '—',\n",
       "  'US Chart Position': '—'},\n",
       " {'BPI Certification': '',\n",
       "  'Label': 'Vee-Jay(US)',\n",
       "  'RIAA Certification': '',\n",
       "  'Released': '10 January 1964',\n",
       "  'Title': 'Introducing... The Beatles',\n",
       "  'UK Chart Position': '—',\n",
       "  'US Chart Position': '2'},\n",
       " {'BPI Certification': '',\n",
       "  'Label': 'Capitol(US)',\n",
       "  'RIAA Certification': '5xPlatinum',\n",
       "  'Released': '20 January 1964',\n",
       "  'Title': 'Meet the Beatles!',\n",
       "  'UK Chart Position': '—',\n",
       "  'US Chart Position': '1'},\n",
       " {'BPI Certification': '',\n",
       "  'Label': 'Capitol(CAN)',\n",
       "  'RIAA Certification': '',\n",
       "  'Released': '3 February 1964',\n",
       "  'Title': 'Twist and Shout',\n",
       "  'UK Chart Position': '—',\n",
       "  'US Chart Position': '—'},\n",
       " {'BPI Certification': '',\n",
       "  'Label': 'Capitol(US)',\n",
       "  'RIAA Certification': '2xPlatinum',\n",
       "  'Released': '10 April 1964',\n",
       "  'Title': \"The Beatles' Second Album\",\n",
       "  'UK Chart Position': '—',\n",
       "  'US Chart Position': '1'},\n",
       " {'BPI Certification': '',\n",
       "  'Label': 'Capitol(CAN)',\n",
       "  'RIAA Certification': '',\n",
       "  'Released': '11 May 1964',\n",
       "  'Title': \"The Beatles' Long Tall Sally\",\n",
       "  'UK Chart Position': '—',\n",
       "  'US Chart Position': '—'},\n",
       " {'BPI Certification': '',\n",
       "  'Label': 'United Artists(US)[C]',\n",
       "  'RIAA Certification': '4xPlatinum',\n",
       "  'Released': '26 June 1964',\n",
       "  'Title': \"A Hard Day's Night\",\n",
       "  'UK Chart Position': '—',\n",
       "  'US Chart Position': '1'},\n",
       " {'BPI Certification': 'Gold',\n",
       "  'Label': 'Parlophone(UK)',\n",
       "  'RIAA Certification': '',\n",
       "  'Released': '10 July 1964',\n",
       "  'Title': '',\n",
       "  'UK Chart Position': '1',\n",
       "  'US Chart Position': '—'}]"
      ]
     },
     "execution_count": 23,
     "metadata": {},
     "output_type": "execute_result"
    }
   ],
   "source": [
    "parse_file_ans(datafile)"
   ]
  },
  {
   "cell_type": "code",
   "execution_count": 13,
   "metadata": {
    "collapsed": true
   },
   "outputs": [],
   "source": [
    "import xlrd\n",
    "import numpy as np"
   ]
  },
  {
   "cell_type": "code",
   "execution_count": 20,
   "metadata": {
    "collapsed": true
   },
   "outputs": [
    {
     "name": "stdout",
     "output_type": "stream",
     "text": [
      "\n",
      "List Comprehension\n",
      "data[3][2]:\n",
      "1036.0886969999988\n",
      "\n",
      "Cells in a nested loop:\n",
      "41277.083333333336\n",
      "9238.737309999968\n",
      "1438.2052799999994\n",
      "1565.4428559999976\n",
      "916.7083480000003\n",
      "14010.903488000036\n",
      "3027.9833399999993\n",
      "6165.211119000006\n",
      "1157.7416630000007\n",
      "37520.93340400001\n",
      "\n",
      "ROWS, COLUMNS, and CELLS:\n",
      "Number of rows in the sheet:\n",
      "7296\n",
      "Type of data in cell (row 3, col 2):\n",
      "2\n",
      "Value in cell (row 3, col 2):\n",
      "1036.0886969999988\n",
      "Get a slice of values in column 3, from rows 1-3:\n",
      "[1411.7505669999982, 1403.4722870000019, 1395.053150000001]\n",
      "\n",
      "DATES:\n",
      "Type of data in cell (row 1, col 0):\n",
      "3\n",
      "Time in Excel format:\n",
      "41275.041666666664\n",
      "Convert time to a Python datetime tuple, from the Excel float:\n",
      "(2013, 1, 1, 1, 0, 0)\n"
     ]
    }
   ],
   "source": [
    "def xlrd_example(datafile):\n",
    "    workbook = xlrd.open_workbook(datafile) # Open a workbook\n",
    "    sheet = workbook.sheet_by_index(0) # Specify sheet to work with. xlrd uses zero-based indexing.\n",
    "    \n",
    "    # List-based comprehension: \n",
    "    # Looping through rows and columns \n",
    "    # and reading that data into a Python list\n",
    "    data = [[sheet.cell_value(r, col) \n",
    "                for col in range(sheet.ncols)] \n",
    "                    for r in range(sheet.nrows)]\n",
    "    \n",
    "    print(\"\\nList Comprehension\")\n",
    "    print(\"data[3][2]:\",) \n",
    "    # Print Row 3 Col 2\n",
    "    print(data[3][2])\n",
    "\n",
    "    print(\"\\nCells in a nested loop:\" )   \n",
    "    for row in range(sheet.nrows):\n",
    "        for col in range(sheet.ncols):\n",
    "            if row == 50:\n",
    "                # Print all values in that row, one col at a time\n",
    "                print(sheet.cell_value(row, col),)\n",
    "\n",
    "\n",
    "    ### other useful methods:\n",
    "    print(\"\\nROWS, COLUMNS, and CELLS:\")\n",
    "    print(\"Number of rows in the sheet:\", )\n",
    "    print(sheet.nrows)\n",
    "    print(\"Type of data in cell (row 3, col 2):\",) \n",
    "    print(sheet.cell_type(3, 2))\n",
    "    print(\"Value in cell (row 3, col 2):\",) \n",
    "    print(sheet.cell_value(3, 2))\n",
    "    print(\"Get a slice of values in column 3, from rows 1-3:\")\n",
    "    print(sheet.col_values(3, start_rowx=1, end_rowx=4)) # Upper bound non-inclusive\n",
    "\n",
    "    print(\"\\nDATES:\")\n",
    "    #Prev dates in Excel represented as floating points\n",
    "    print(\"Type of data in cell (row 1, col 0):\",) \n",
    "    print(sheet.cell_type(1, 0))\n",
    "    exceltime = sheet.cell_value(1, 0)\n",
    "    print(\"Time in Excel format:\",) \n",
    "    print(exceltime)\n",
    "    print(\"Convert time to a Python datetime tuple, from the Excel float:\",)\n",
    "    print(xlrd.xldate_as_tuple(exceltime, 0)) # Helps us work with date in Python\n",
    "\n",
    "xlrd_example('2013_ERCOT_Hourly_Load_Data.xls')"
   ]
  },
  {
   "cell_type": "code",
   "execution_count": 25,
   "metadata": {
    "collapsed": false
   },
   "outputs": [
    {
     "name": "stdout",
     "output_type": "stream",
     "text": [
      "{'mintime': (2013, 2, 3, 4, 0, 0), 'avgcoast': 10976.933460679784, 'maxvalue': 18779.025510000003, 'maxtime': (2013, 8, 13, 17, 0, 0), 'minvalue': 6602.113898999982}\n"
     ]
    }
   ],
   "source": [
    "datafile = \"2013_ERCOT_Hourly_Load_Data.xls\"\n",
    "\n",
    "def parse_file(datafile):\n",
    "    workbook = xlrd.open_workbook(datafile) # Open a workbook\n",
    "    sheet = workbook.sheet_by_index(0) # Specify sheet to work with. xlrd uses zero-based indexing.\n",
    "    \n",
    "    # List-based comprehension: \n",
    "    # Looping through rows and columns \n",
    "    # and reading that data into a Python list\n",
    "    file_data = [[sheet.cell_value(r, col) \n",
    "                for col in range(sheet.ncols)] \n",
    "                    for r in range(sheet.nrows)]\n",
    "    \n",
    "    \"\"\"\n",
    "    - read the provided Excel file\n",
    "    - find and return the min, max and average values for the COAST region\n",
    "    - find and return the time value for the min and max entries\n",
    "    - the time values should be returned as Python tuples\n",
    "    \"\"\"\n",
    "    \n",
    "    \n",
    "    coast_values = sheet.col_values(1, start_rowx=1, end_rowx=sheet.nrows)\n",
    "    \n",
    "    coast_values_np = np.array(coast_values)\n",
    "    \n",
    "    max_val = max(coast_values)\n",
    "    min_val = min(coast_values)\n",
    "    avg_val = coast_values_np.mean() # Also: sum(coast_values) / float(len(coast_values))\n",
    "    \n",
    "    max_pos = coast_values.index(max_val) + 1\n",
    "    min_pos = coast_values.index(min_val) + 1\n",
    "    \n",
    "    max_time = sheet.cell_value(max_pos,0)\n",
    "    real_max_time = xlrd.xldate_as_tuple(max_time, 0)\n",
    "    min_time = sheet.cell_value(min_pos,0)\n",
    "    real_min_time = xlrd.xldate_as_tuple(min_time, 0)\n",
    "    \n",
    "    data = {\n",
    "            'maxtime': real_max_time,\n",
    "            'maxvalue': max_val,\n",
    "            'mintime': real_min_time,\n",
    "            'minvalue': min_val,\n",
    "            'avgcoast': avg_val\n",
    "    }    \n",
    "    \n",
    "    print(data)\n",
    "\n",
    "def test():\n",
    "    open_zip(datafile)\n",
    "    data = parse_file(datafile)\n",
    "\n",
    "    assert data['maxtime'] == (2013, 8, 13, 17, 0, 0)\n",
    "    assert round(data['maxvalue'], 10) == round(18779.02551, 10)\n",
    "    \n",
    "data = parse_file(datafile)\n"
   ]
  },
  {
   "cell_type": "markdown",
   "metadata": {},
   "source": [
    "### xlrd Functions and Methods\n",
    "- .index(value)\n",
    "- xlrd.xldate_as_tuple(variable,0)"
   ]
  }
 ],
 "metadata": {
  "kernelspec": {
   "display_name": "Python 3",
   "language": "python",
   "name": "python3"
  },
  "language_info": {
   "codemirror_mode": {
    "name": "ipython",
    "version": 3
   },
   "file_extension": ".py",
   "mimetype": "text/x-python",
   "name": "python",
   "nbconvert_exporter": "python",
   "pygments_lexer": "ipython3",
   "version": "3.5.1"
  }
 },
 "nbformat": 4,
 "nbformat_minor": 0
}
