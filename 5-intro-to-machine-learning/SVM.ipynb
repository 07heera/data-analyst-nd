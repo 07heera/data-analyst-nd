{
 "cells": [
  {
   "cell_type": "markdown",
   "metadata": {},
   "source": [
    "# SVM: Support Vector Machines\n",
    "\n",
    "Young algorithm.\n",
    "\n",
    "Initial defn: SVM **finds (outputs) a separating line (hyperplane) between data of two classes.**\n",
    "\n",
    "Q: What makes a good separating line?\n",
    "\n",
    "A: Maximises **margin**: distance between the line and the nearest point of either of two classes.\n",
    "\n",
    "Underlying concept is to **maximise robustness**.\n",
    "\n",
    "Question diagram.\n",
    "\n",
    "**SVM prioritises correct classification over maximising margin.**\n",
    "\n",
    "BUT **outliers**: may ignore individual outliers to do the best it can in constructing a decision surface. **SVM is somewhat robust to outliers.** SOmehow mediates attempt to find maximum marginal separator and ability to ignore outliers. There is a tradeoff: can determine via parameters how willing it is to ignore outliers."
   ]
  },
  {
   "cell_type": "markdown",
   "metadata": {},
   "source": [
    "From [sk-learn documentation](http://scikit-learn.org/stable/modules/svm.html):\n",
    "\n",
    "The advantages of support vector machines are:\n",
    "* Effective in high dimensional spaces.\n",
    "* Still effective in cases where number of dimensions is greater than the number of samples.\n",
    "* Uses a subset of training points in the decision function (called support vectors), so it is also memory efficient.\n",
    "* Versatile: different Kernel functions can be specified for the decision function. Common kernels are provided, but it is also possible to specify custom kernels.\n",
    "\n",
    "The disadvantages of support vector machines include:\n",
    "* If the number of features is much greater than the number of samples, the method is likely to give poor performances.\n",
    "* SVMs do not directly provide probability estimates, these are calculated using an expensive five-fold cross-validation (see Scores and probabilities, below).\n"
   ]
  },
  {
   "cell_type": "code",
   "execution_count": 1,
   "metadata": {
    "collapsed": false
   },
   "outputs": [
    {
     "ename": "IndentationError",
     "evalue": "unexpected indent (<ipython-input-1-2e825f8a2dd5>, line 7)",
     "output_type": "error",
     "traceback": [
      "\u001b[0;36m  File \u001b[0;32m\"<ipython-input-1-2e825f8a2dd5>\"\u001b[0;36m, line \u001b[0;32m7\u001b[0m\n\u001b[0;31m    decision_function_shape=None, degree=3, gamma='auto', kernel='rbf',\u001b[0m\n\u001b[0m    ^\u001b[0m\n\u001b[0;31mIndentationError\u001b[0m\u001b[0;31m:\u001b[0m unexpected indent\n"
     ]
    }
   ],
   "source": [
    ">>> from sklearn import svm\n",
    ">>> X = [[0, 0], [1, 1]]\n",
    ">>> y = [0, 1]\n",
    ">>> clf = svm.SVC()\n",
    ">>> clf.fit(X, y)  \n",
    "# SVC(C=1.0, cache_size=200, class_weight=None, coef0=0.0,\n",
    "    decision_function_shape=None, degree=3, gamma='auto', kernel='rbf',\n",
    "    max_iter=-1, probability=False, random_state=None, shrinking=True,\n",
    "    tol=0.001, verbose=False)\n",
    "clf.predict([[2., 2.,]])"
   ]
  },
  {
   "cell_type": "code",
   "execution_count": null,
   "metadata": {
    "collapsed": true
   },
   "outputs": [],
   "source": [
    "# Exercise\n",
    "import sys\n",
    "from class_vis import prettyPicture\n",
    "from prep_terrain_data import makeTerrainData\n",
    "\n",
    "import matplotlib.pyplot as plt\n",
    "import copy\n",
    "import numpy as np\n",
    "import pylab as pl\n",
    "\n",
    "\n",
    "features_train, labels_train, features_test, labels_test = makeTerrainData()\n",
    "\n",
    "\n",
    "########################## SVM #################################\n",
    "### we handle the import statement and SVC creation for you here\n",
    "from sklearn.svm import SVC\n",
    "clf = SVC(kernel=\"linear\")\n",
    "\n",
    "\n",
    "#### now your job is to fit the classifier\n",
    "#### using the training features/labels, and to\n",
    "#### make a set of predictions on the test data\n",
    "clf.fit(features_train, labels_train)\n",
    "\n",
    "#### store your predictions in a list named pred\n",
    "pred = clf.predict(features_test)\n",
    "\n",
    "\n",
    "from sklearn.metrics import accuracy_score\n",
    "acc = accuracy_score(pred, labels_test)\n",
    "\n",
    "def submitAccuracy():\n",
    "    return acc\n",
    "# 0.92"
   ]
  },
  {
   "cell_type": "markdown",
   "metadata": {},
   "source": [
    "## Nonlinear SVMs\n",
    "\n",
    "(Insert diagram)\n",
    "\n",
    "SVM is built on giving linear separation.\n",
    "\n",
    "* Previously assume inputs x,y - SVM -> Label.\n",
    "* Now have x, y, $x^2+y^2$ - SVM -> Label.\n",
    "\n",
    "SVM makes nonlinear decision surfaces by **making new features**. In the case above, $z = x^2 + y^2$ is a new feature.\n",
    "\n",
    "Now they are linearly separable?\n",
    "\n",
    "### Finding New Features using the Kernel Trick\n",
    "\n",
    "Gist: \n",
    "* Changing input space X,Y into a much larger input space $X_i$ using the kernel trick, \n",
    "* separate using SVM. \n",
    "* Take solution back to original space to get non-linear separation.\n",
    "\n",
    "**One of most central tricks in machine learning.**\n",
    "\n",
    "\n",
    "(Groups kernel?)\n",
    "\n",
    "As specified in the documentation, \"different Kernel functions can be specified for the decision function. Common kernels are provided, but it is also possible to specify custom kernels.\"\n",
    "\n",
    "**SVC**: Support Vector Classifier (a type of svm)\n",
    "\n",
    "Kernel is a SVC parameter. Kernels available for SVC: \n",
    "* \"linear\"\n",
    "* \"poly\"\n",
    "* \"rbf\" (default)\n",
    "* \"sigmoid\"\n",
    "* \"precomputed\"\n",
    "* a callable"
   ]
  },
  {
   "cell_type": "code",
   "execution_count": null,
   "metadata": {
    "collapsed": true
   },
   "outputs": [],
   "source": [
    "# e.g.:\n",
    "clf = SVC(kernel=\"linear\")"
   ]
  },
  {
   "cell_type": "markdown",
   "metadata": {},
   "source": [
    "### Parameters in ML\n",
    "Arguments passed when you **create** your classifier. I.e. before fitting.\n",
    "\n",
    "Sample parameters for an SVM:\n",
    "* kernel\n",
    "* C\n",
    "* gamma"
   ]
  }
 ],
 "metadata": {
  "kernelspec": {
   "display_name": "Python 3",
   "language": "python",
   "name": "python3"
  },
  "language_info": {
   "codemirror_mode": {
    "name": "ipython",
    "version": 3
   },
   "file_extension": ".py",
   "mimetype": "text/x-python",
   "name": "python",
   "nbconvert_exporter": "python",
   "pygments_lexer": "ipython3",
   "version": "3.5.1"
  }
 },
 "nbformat": 4,
 "nbformat_minor": 0
}
