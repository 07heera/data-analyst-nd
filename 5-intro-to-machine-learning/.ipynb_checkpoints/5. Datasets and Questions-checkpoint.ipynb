{
 "cells": [
  {
   "cell_type": "markdown",
   "metadata": {},
   "source": [
    "## Enron\n",
    "\n",
    "Largest case of corporate fraud in US history.\n",
    "\n",
    "'Enron corpus' is hundreds of thousands of emails. Biggest set of emails that exist in the open.\n",
    "\n",
    "Question: Any patterns within the emails of people who were persons of interest (POIs) in the fraud case.\n",
    "\n",
    "Topics:\n",
    "* Regression: Relationship between salaries and bonuses\n",
    "* Clustering (Unsupervised learning algorithm) -> Who within organisation was on the board of directors\n",
    "    * Can also identify types of users based on their movie preferences\n",
    "* Outlier detection and removal -> Detect bugs that we need to clean manually to make sure we get good results from the data\n",
    "\n",
    "Questions may not be easy to solve.\n",
    "\n",
    "### What is a person of interest?\n",
    "\n",
    "Someone who (was)\n",
    "* Indicted (charged with a crime)\n",
    "* Settled without admitting guilt (e.g. paid a fine)\n",
    "* Testified in exchange for immunity.\n",
    "\n",
    "-> Judgements as to which to include.\n",
    "\n",
    "Here had to go out and **manually** find out who should be assigned the **label** POI through newspaper articles. Total 35 POIs.\n",
    "\n",
    "-> Should be skeptical of these labels.\n",
    "\n",
    "### Accuracy <-> Training Set Size\n",
    "Q: Enough events to capture all the trends in the data?\n",
    "\n",
    "[img](images/5-03.png)\n",
    "\n",
    "Concerned if we were down in the bottom left column (training set size so small that accuracy is v low and accuracy can be increased dramatically by increasing training set size by some smallish number.)\n",
    "\n",
    "### Enron Email Dataset\n",
    "\n",
    "Q: How many POIs' emails do I have? Do we have sufficient data to discover trends in their emails?\n",
    "-> Do it manually\n",
    "-> Discovered we onl had 4-5 people we had the inboxes of. Discouraging."
   ]
  },
  {
   "cell_type": "markdown",
   "metadata": {},
   "source": [
    "## Types of Data\n",
    "\n",
    "* numerical - numerical values (numbers)\n",
    "* categorical - limited number of discrete values (category, e.g. stars in ratings)\n",
    "* time series - temporal value (date, timestamp. e.g. in finance)\n",
    "* text - words\n",
    "\n"
   ]
  }
 ],
 "metadata": {
  "kernelspec": {
   "display_name": "Python 3",
   "language": "python",
   "name": "python3"
  },
  "language_info": {
   "codemirror_mode": {
    "name": "ipython",
    "version": 3
   },
   "file_extension": ".py",
   "mimetype": "text/x-python",
   "name": "python",
   "nbconvert_exporter": "python",
   "pygments_lexer": "ipython3",
   "version": "3.5.1"
  }
 },
 "nbformat": 4,
 "nbformat_minor": 0
}
