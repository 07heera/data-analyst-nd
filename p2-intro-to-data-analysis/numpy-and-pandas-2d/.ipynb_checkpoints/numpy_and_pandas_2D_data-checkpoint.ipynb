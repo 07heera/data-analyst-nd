{
 "cells": [
  {
   "cell_type": "markdown",
   "metadata": {},
   "source": [
    "## Questions\n",
    "\n",
    "1. Does weather systematically vary with longitude, latitude, hour of day? Longitude & latitude using mean values, hour of day using individual entries.\n",
    "2. How does the number of turnstile entries / exits vary with the hour of day? Whether or not it's a weekday? The day of the week?\n",
    "3. Turnstile ENTRY = EXIT?\n",
    "4. Outlier days for turnstile entries and exits?\n",
    "5. Correlations between weather variables and turnstile entries / exits?\n"
   ]
  },
  {
   "cell_type": "code",
   "execution_count": null,
   "metadata": {
    "collapsed": true
   },
   "outputs": [],
   "source": [
    "import pandas as pd\n",
    "import numpy as np"
   ]
  },
  {
   "cell_type": "code",
   "execution_count": null,
   "metadata": {
    "collapsed": true
   },
   "outputs": [],
   "source": [
    "def correlation(x, y):\n",
    "    '''\n",
    "    Fill in this function to compute the correlation between the two\n",
    "    input variables. Each input is either a NumPy array or a Pandas\n",
    "    Series.\n",
    "    \n",
    "    correlation = average of (x in standard units) times (y in standard units)\n",
    "    \n",
    "    Remember to pass the argument \"ddof=0\" to the Pandas std() function!\n",
    "    '''\n",
    "    x_mean = x.mean()\n",
    "    y_mean = y.mean()\n",
    "    x_std = x.std(ddof=0)\n",
    "    y_std = y.std(ddof=0)\n",
    "    standardised_x = (x - x_mean)/x_std\n",
    "    standardised_y = (y - y_mean)/y_std\n",
    "    return standardised_x.mean() * standardised_y.mean()"
   ]
  },
  {
   "cell_type": "code",
   "execution_count": null,
   "metadata": {
    "collapsed": true
   },
   "outputs": [],
   "source": [
    "x = pd.Series([1, 2, 3, 4])\n",
    "y = pd.Series([10, 11, 12, 13])\n"
   ]
  }
 ],
 "metadata": {
  "kernelspec": {
   "display_name": "Python 3",
   "language": "python",
   "name": "python3"
  },
  "language_info": {
   "codemirror_mode": {
    "name": "ipython",
    "version": 3
   },
   "file_extension": ".py",
   "mimetype": "text/x-python",
   "name": "python",
   "nbconvert_exporter": "python",
   "pygments_lexer": "ipython3",
   "version": "3.5.1"
  }
 },
 "nbformat": 4,
 "nbformat_minor": 0
}
